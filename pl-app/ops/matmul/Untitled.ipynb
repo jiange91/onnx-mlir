{
 "cells": [
  {
   "cell_type": "code",
   "execution_count": 1,
   "id": "dc788d2d",
   "metadata": {},
   "outputs": [
    {
     "ename": "ModuleNotFoundError",
     "evalue": "No module named 'torch'",
     "output_type": "error",
     "traceback": [
      "\u001b[0;31m---------------------------------------------------------------------------\u001b[0m",
      "\u001b[0;31mModuleNotFoundError\u001b[0m                       Traceback (most recent call last)",
      "Cell \u001b[0;32mIn[1], line 2\u001b[0m\n\u001b[1;32m      1\u001b[0m \u001b[38;5;28;01mimport\u001b[39;00m \u001b[38;5;21;01mnumpy\u001b[39;00m \u001b[38;5;28;01mas\u001b[39;00m \u001b[38;5;21;01mnp\u001b[39;00m\n\u001b[0;32m----> 2\u001b[0m \u001b[38;5;28;01mimport\u001b[39;00m \u001b[38;5;21;01mtorch\u001b[39;00m\n\u001b[1;32m      3\u001b[0m \u001b[38;5;28;01mimport\u001b[39;00m \u001b[38;5;21;01mtime\u001b[39;00m\n\u001b[1;32m      4\u001b[0m \u001b[38;5;28;01mimport\u001b[39;00m \u001b[38;5;21;01mtorch\u001b[39;00m\u001b[38;5;21;01m.\u001b[39;00m\u001b[38;5;21;01mnn\u001b[39;00m \u001b[38;5;28;01mas\u001b[39;00m \u001b[38;5;21;01mnn\u001b[39;00m\n",
      "\u001b[0;31mModuleNotFoundError\u001b[0m: No module named 'torch'"
     ]
    }
   ],
   "source": [
    "import numpy as np\n",
    "import torch\n",
    "import time\n",
    "import torch.nn as nn\n",
    "import os\n",
    "\n",
    "torch.set_num_threads(1)\n",
    "\n",
    "from threadpoolctl import threadpool_limits\n"
   ]
  },
  {
   "cell_type": "code",
   "execution_count": 9,
   "id": "261b66c2",
   "metadata": {},
   "outputs": [],
   "source": [
    "def perf_matmul(ashape, bshape):\n",
    "    A = torch.rand(ashape)\n",
    "    B = torch.rand(bshape)\n",
    "    start = time.time()\n",
    "    C = torch.matmul(A, B)\n",
    "    print(C.size())\n",
    "    print(time.time() - start)\n",
    "    \n",
    "def np_perf(ashape, bshape):\n",
    "    A = np.random.randn(*ashape)\n",
    "    B = np.random.randn(*bshape)\n",
    "    start = time.time()\n",
    "    with threadpool_limits(limits=1, user_api='blas'):\n",
    "        C = A @ B\n",
    "        print(C.shape)\n",
    "    print(time.time() - start)\n",
    "    \n",
    "def save_to(base, x, y):\n",
    "    np_input = x.detach().numpy()\n",
    "    with open(os.path.join(base, 'dummy_in.dat'), 'wb') as f:\n",
    "        np_input.tofile(f)\n",
    "\n",
    "    np_output = y.detach().numpy()\n",
    "    with open(os.path.join(base, 'dummy_out.dat'), 'wb') as f:\n",
    "        np_output.tofile(f)"
   ]
  },
  {
   "cell_type": "code",
   "execution_count": 3,
   "id": "b5bbad48",
   "metadata": {},
   "outputs": [
    {
     "name": "stdout",
     "output_type": "stream",
     "text": [
      "torch.Size([1008, 64, 1536])\n",
      "2.458440065383911\n",
      "(1008, 64, 1536)\n",
      "5.642819404602051\n"
     ]
    }
   ],
   "source": [
    "perf_matmul((1008, 64, 512), (512, 1536))\n",
    "\n",
    "np_perf((1008, 64, 512), (512, 1536))"
   ]
  },
  {
   "cell_type": "code",
   "execution_count": 4,
   "id": "0933cb2c",
   "metadata": {},
   "outputs": [
    {
     "name": "stdout",
     "output_type": "stream",
     "text": [
      "torch.Size([128, 1008, 256])\n",
      "1.9739768505096436\n",
      "(128, 1008, 256)\n",
      "3.0647637844085693\n"
     ]
    }
   ],
   "source": [
    "perf_matmul((128, 1008, 1008), (128, 1008, 256))\n",
    "\n",
    "np_perf((128, 1008, 1008), (128, 1008, 256))"
   ]
  },
  {
   "cell_type": "code",
   "execution_count": 3,
   "id": "43ceb2c1",
   "metadata": {},
   "outputs": [
    {
     "name": "stdout",
     "output_type": "stream",
     "text": [
      "torch.Size([64512, 512])\n",
      "0.7357625961303711\n",
      "(64512, 512)\n",
      "1.724242925643921\n"
     ]
    }
   ],
   "source": [
    "perf_matmul((64512, 512), (512, 512))\n",
    "\n",
    "np_perf((64512, 512), (512, 512))"
   ]
  },
  {
   "cell_type": "code",
   "execution_count": 6,
   "id": "fd24d6a0",
   "metadata": {},
   "outputs": [
    {
     "name": "stdout",
     "output_type": "stream",
     "text": [
      "torch.Size([1008, 64, 2048])\n",
      "2.8759877681732178\n",
      "(1008, 64, 2048)\n",
      "7.270247936248779\n"
     ]
    }
   ],
   "source": [
    "perf_matmul((1008, 64, 512), (512, 2048))\n",
    "\n",
    "np_perf((1008, 64, 512), (512, 2048))"
   ]
  },
  {
   "cell_type": "code",
   "execution_count": 7,
   "id": "276112e3",
   "metadata": {},
   "outputs": [
    {
     "name": "stdout",
     "output_type": "stream",
     "text": [
      "torch.Size([1008, 64, 512])\n",
      "2.827690601348877\n",
      "(1008, 64, 512)\n",
      "7.1652514934539795\n"
     ]
    }
   ],
   "source": [
    "perf_matmul((1008, 64, 2048), (2048, 512))\n",
    "np_perf((1008, 64, 2048), (2048, 512))"
   ]
  },
  {
   "cell_type": "code",
   "execution_count": 3,
   "id": "02d1d4a9",
   "metadata": {},
   "outputs": [],
   "source": [
    "w = torch.nn.Linear(2, 3)\n",
    "\n",
    "x = torch.rand((4, 2))"
   ]
  },
  {
   "cell_type": "code",
   "execution_count": 4,
   "id": "3915589a",
   "metadata": {},
   "outputs": [
    {
     "name": "stdout",
     "output_type": "stream",
     "text": [
      "CPU times: user 4 ms, sys: 0 ns, total: 4 ms\n",
      "Wall time: 1.69 ms\n"
     ]
    },
    {
     "data": {
      "text/plain": [
       "torch.Size([4, 3])"
      ]
     },
     "execution_count": 4,
     "metadata": {},
     "output_type": "execute_result"
    }
   ],
   "source": [
    "%%time\n",
    "\n",
    "y = w(x)\n",
    "y.size()"
   ]
  },
  {
   "cell_type": "code",
   "execution_count": 6,
   "id": "edd6d99b",
   "metadata": {},
   "outputs": [],
   "source": [
    "input_names = [\"x\"]\n",
    "output_names = [\"y\"]\n",
    "dummy_input = x\n",
    "torch.onnx.export(w,\n",
    "                  dummy_input,\n",
    "                  \"./gemm.onnx\",\n",
    "                  verbose=False,\n",
    "                  input_names=input_names,\n",
    "                  output_names=output_names)"
   ]
  },
  {
   "cell_type": "code",
   "execution_count": 13,
   "id": "71447bfe",
   "metadata": {},
   "outputs": [],
   "source": [
    "save_to(\".\", x, y)"
   ]
  },
  {
   "cell_type": "code",
   "execution_count": 8,
   "id": "cacc3358",
   "metadata": {},
   "outputs": [
    {
     "data": {
      "text/plain": [
       "tensor([[-0.5996,  0.1297,  0.0316],\n",
       "        [-0.9554,  0.3789,  0.3892],\n",
       "        [-0.6218,  0.6133,  0.3626],\n",
       "        [-0.6292,  0.5457,  0.3221]], grad_fn=<AddmmBackward0>)"
      ]
     },
     "execution_count": 8,
     "metadata": {},
     "output_type": "execute_result"
    }
   ],
   "source": []
  },
  {
   "cell_type": "code",
   "execution_count": null,
   "id": "f3034bda",
   "metadata": {},
   "outputs": [],
   "source": []
  }
 ],
 "metadata": {
  "kernelspec": {
   "display_name": "Python 3 (ipykernel)",
   "language": "python",
   "name": "python3"
  },
  "language_info": {
   "codemirror_mode": {
    "name": "ipython",
    "version": 3
   },
   "file_extension": ".py",
   "mimetype": "text/x-python",
   "name": "python",
   "nbconvert_exporter": "python",
   "pygments_lexer": "ipython3",
   "version": "3.8.10"
  }
 },
 "nbformat": 4,
 "nbformat_minor": 5
}
