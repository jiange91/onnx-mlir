{
 "cells": [
  {
   "cell_type": "code",
   "execution_count": 2,
   "id": "74d2aab2",
   "metadata": {},
   "outputs": [],
   "source": [
    "from transformers import GPT2Tokenizer, GPT2LMHeadModel, GenerationConfig, GPT2Config\n",
    "import torch\n",
    "import torch.nn as nn\n",
    "import os\n",
    "from pathlib import Path\n",
    "\n",
    "import transformers\n",
    "from onnxruntime import InferenceSession\n",
    "from transformers.onnx.features import FeaturesManager\n",
    "from optimum.exporters.tasks import TasksManager"
   ]
  },
  {
   "cell_type": "code",
   "execution_count": 3,
   "id": "c7597e2d",
   "metadata": {},
   "outputs": [
    {
     "data": {
      "text/plain": [
       "<torch._C.Generator at 0x7f4488f031d0>"
      ]
     },
     "execution_count": 3,
     "metadata": {},
     "output_type": "execute_result"
    }
   ],
   "source": [
    "torch.manual_seed(2333)"
   ]
  },
  {
   "cell_type": "code",
   "execution_count": 13,
   "id": "3fc8b42b",
   "metadata": {},
   "outputs": [],
   "source": [
    "tokenizer = GPT2Tokenizer.from_pretrained('gpt2')\n",
    "model = GPT2LMHeadModel.from_pretrained('gpt2')\n",
    "model.eval()\n",
    "# model.config.return_dict = False\n",
    "text = \"Replace me by any text you'd like.\"\n",
    "encoded_input = tokenizer(text, return_tensors='pt')\n",
    "encoded_input\n",
    "\n",
    "model.transformer.wte = nn.Embedding(50264, 768)\n",
    "model.lm_head = nn.Linear(768, 50264, bias=False)"
   ]
  },
  {
   "cell_type": "code",
   "execution_count": 14,
   "id": "560abfb3",
   "metadata": {},
   "outputs": [
    {
     "name": "stdout",
     "output_type": "stream",
     "text": [
      "GPT2LMHeadModel(\n",
      "  (transformer): GPT2Model(\n",
      "    (wte): Embedding(50264, 768)\n",
      "    (wpe): Embedding(1024, 768)\n",
      "    (drop): Dropout(p=0.1, inplace=False)\n",
      "    (h): ModuleList(\n",
      "      (0): GPT2Block(\n",
      "        (ln_1): LayerNorm((768,), eps=1e-05, elementwise_affine=True)\n",
      "        (attn): GPT2Attention(\n",
      "          (c_attn): Conv1D()\n",
      "          (c_proj): Conv1D()\n",
      "          (attn_dropout): Dropout(p=0.1, inplace=False)\n",
      "          (resid_dropout): Dropout(p=0.1, inplace=False)\n",
      "        )\n",
      "        (ln_2): LayerNorm((768,), eps=1e-05, elementwise_affine=True)\n",
      "        (mlp): GPT2MLP(\n",
      "          (c_fc): Conv1D()\n",
      "          (c_proj): Conv1D()\n",
      "          (act): NewGELUActivation()\n",
      "          (dropout): Dropout(p=0.1, inplace=False)\n",
      "        )\n",
      "      )\n",
      "    )\n",
      "    (ln_f): LayerNorm((768,), eps=1e-05, elementwise_affine=True)\n",
      "  )\n",
      "  (lm_head): Linear(in_features=768, out_features=50264, bias=False)\n",
      ")\n"
     ]
    }
   ],
   "source": [
    "model.transformer.h = nn.ModuleList([model.transformer.h[0]])\n",
    "print(model)"
   ]
  },
  {
   "cell_type": "code",
   "execution_count": 15,
   "id": "ec7b1f87",
   "metadata": {},
   "outputs": [],
   "source": [
    "# Stage 0\n",
    "encoded_input_0 = {\n",
    "    'input_ids': torch.randint(0, 50264, (64, 255)),\n",
    "    'past_key_values': None\n",
    "}"
   ]
  },
  {
   "cell_type": "code",
   "execution_count": 16,
   "id": "74c69029",
   "metadata": {},
   "outputs": [
    {
     "name": "stdout",
     "output_type": "stream",
     "text": [
      "torch.Size([64, 255, 50264])\n",
      "torch.Size([64, 12, 255, 64])\n",
      "CPU times: user 38.6 s, sys: 2.92 s, total: 41.5 s\n",
      "Wall time: 2.69 s\n"
     ]
    }
   ],
   "source": [
    "%%time\n",
    "with torch.no_grad():\n",
    "    output = model(**encoded_input_0)\n",
    "print(output.logits.shape)\n",
    "print(output.past_key_values[0][0].size())"
   ]
  },
  {
   "cell_type": "code",
   "execution_count": 19,
   "id": "16b063cc",
   "metadata": {},
   "outputs": [
    {
     "name": "stdout",
     "output_type": "stream",
     "text": [
      "1\n",
      "2\n"
     ]
    }
   ],
   "source": [
    "print(len(output.past_key_values))\n",
    "print(len(output.past_key_values[0]))"
   ]
  },
  {
   "cell_type": "code",
   "execution_count": 17,
   "id": "6778ebc6",
   "metadata": {},
   "outputs": [
    {
     "data": {
      "text/plain": [
       "torch.Size([64, 1])"
      ]
     },
     "execution_count": 17,
     "metadata": {},
     "output_type": "execute_result"
    }
   ],
   "source": [
    "# prepare for stage 1\n",
    "next_input = torch.argmax(output.logits[..., -1, :], dim=-1, keepdim=True)\n",
    "next_input.size()"
   ]
  },
  {
   "cell_type": "code",
   "execution_count": 25,
   "id": "2b2c6f93",
   "metadata": {},
   "outputs": [
    {
     "name": "stdout",
     "output_type": "stream",
     "text": [
      "torch.Size([64, 1, 50264])\n",
      "CPU times: user 675 ms, sys: 1.89 ms, total: 677 ms\n",
      "Wall time: 47 ms\n"
     ]
    }
   ],
   "source": [
    "%%time\n",
    "\n",
    "# Stage 1 without current past return\n",
    "model.config.use_cache = False\n",
    "with torch.no_grad():\n",
    "    next_output = model(next_input, past_key_values=output.past_key_values)\n",
    "print(next_output.logits.size())"
   ]
  },
  {
   "cell_type": "code",
   "execution_count": 26,
   "id": "cdbbae8c",
   "metadata": {},
   "outputs": [
    {
     "name": "stdout",
     "output_type": "stream",
     "text": [
      "['input_ids', 'past.0.key', 'past.0.value']\n",
      "['logits']\n"
     ]
    }
   ],
   "source": [
    "# Export\n",
    "import numpy as np\n",
    "\n",
    "def save_to(x, fp):\n",
    "    os.makedirs(os.path.dirname(fp), exist_ok=True)\n",
    "    print(x.dtype)\n",
    "    np_x = x.detach().numpy()\n",
    "    with open(fp, 'wb') as f:\n",
    "        np_x.tofile(f)\n",
    "\n",
    "def save_past_key_values(x, n, d):\n",
    "    for l in range(n):\n",
    "        k, v = x[l]\n",
    "        fp = os.path.join(d, \"past_key_values\", \"{}.{}\".format('past', l))\n",
    "        save_to(k, fp + '.key')\n",
    "        save_to(v, fp + '.value')\n",
    "\n",
    "def past_key_values_names(n: int, prefix: str):\n",
    "    for i in range(n):\n",
    "        yield \"{}.{}.key\".format(prefix, i)\n",
    "        yield \"{}.{}.value\".format(prefix, i)\n",
    "\n",
    "def prepare_dimension(in_name, out_name):\n",
    "    ds = {}\n",
    "    for name in in_name + out_name:\n",
    "        if name.startswith('past') or name.startswith('present'):\n",
    "            ds[name] = {2: 'seq_length'}\n",
    "    return ds\n",
    "\n",
    "input_names = [\"input_ids\"] + list(past_key_values_names(1, \"past\"))\n",
    "# output_names = [\"logits\"] + list(past_key_values_names(12, \"present\"))\n",
    "output_names = [\"logits\"]\n",
    "# dyn_dimensions = prepare_dimension(input_names, output_names)\n",
    "print(input_names)\n",
    "print(output_names)\n",
    "# print(dyn_dimensions)\n",
    "\n",
    "dummy_input = {\n",
    "    'input_ids': next_input,\n",
    "    'past_key_values': output.past_key_values\n",
    "}"
   ]
  },
  {
   "cell_type": "code",
   "execution_count": 28,
   "id": "9b2e6651",
   "metadata": {},
   "outputs": [
    {
     "name": "stdout",
     "output_type": "stream",
     "text": [
      "============== Diagnostic Run torch.onnx.export version 2.0.0+cpu ==============\n",
      "verbose: False, log level: Level.ERROR\n",
      "======================= 0 NONE 0 NOTE 0 WARNING 0 ERROR ========================\n",
      "\n"
     ]
    }
   ],
   "source": [
    "Path(\"./model_onnx\").mkdir(parents=True, exist_ok=True)\n",
    "torch.onnx.export(model,\n",
    "                  dummy_input,\n",
    "                  \"./model_onnx/gpt2Block.onnx\",\n",
    "                  verbose=False,\n",
    "                  input_names=input_names,\n",
    "                  output_names=output_names,\n",
    "                  dynamic_axes=None)"
   ]
  },
  {
   "cell_type": "code",
   "execution_count": 29,
   "id": "5e5f7ce8",
   "metadata": {},
   "outputs": [
    {
     "name": "stdout",
     "output_type": "stream",
     "text": [
      "torch.int64\n",
      "torch.float32\n",
      "torch.float32\n"
     ]
    }
   ],
   "source": [
    "save_to(dummy_input['input_ids'], './model_onnx/input_ids.dat')\n",
    "save_past_key_values(dummy_input['past_key_values'], 1, './model_onnx')"
   ]
  },
  {
   "cell_type": "code",
   "execution_count": null,
   "id": "e936acfb",
   "metadata": {},
   "outputs": [],
   "source": []
  }
 ],
 "metadata": {
  "kernelspec": {
   "display_name": "Python 3 (ipykernel)",
   "language": "python",
   "name": "python3"
  },
  "language_info": {
   "codemirror_mode": {
    "name": "ipython",
    "version": 3
   },
   "file_extension": ".py",
   "mimetype": "text/x-python",
   "name": "python",
   "nbconvert_exporter": "python",
   "pygments_lexer": "ipython3",
   "version": "3.8.10"
  }
 },
 "nbformat": 4,
 "nbformat_minor": 5
}
