{
 "cells": [
  {
   "cell_type": "code",
   "execution_count": 1,
   "id": "dccfee75",
   "metadata": {},
   "outputs": [],
   "source": [
    "from transformers import GPT2Tokenizer, GPT2LMHeadModel, GenerationConfig, GPT2Config\n",
    "import torch\n",
    "import torch.nn as nn\n",
    "import os\n",
    "from pathlib import Path\n",
    "\n",
    "import transformers\n",
    "from onnxruntime import InferenceSession\n",
    "from transformers.onnx.features import FeaturesManager\n",
    "from optimum.exporters.tasks import TasksManager"
   ]
  },
  {
   "cell_type": "code",
   "execution_count": 2,
   "id": "b49e7df6",
   "metadata": {},
   "outputs": [],
   "source": [
    "import numpy as np\n",
    "\n",
    "def save_to(x, fp):\n",
    "    os.makedirs(os.path.dirname(fp), exist_ok=True)\n",
    "    print(x.dtype)\n",
    "    np_x = x.detach().numpy()\n",
    "    with open(fp, 'wb') as f:\n",
    "        np_x.tofile(f)\n",
    "\n",
    "def save_past_key_values(x, n, d):\n",
    "    for l in range(n):\n",
    "        k, v = x[l]\n",
    "        fp = os.path.join(d, \"past_key_values\", \"{}.{}\".format('past', l))\n",
    "        save_to(k, fp + '.key')\n",
    "        save_to(v, fp + '.value')"
   ]
  },
  {
   "cell_type": "code",
   "execution_count": 3,
   "id": "ae44fc70",
   "metadata": {},
   "outputs": [
    {
     "data": {
      "text/plain": [
       "<torch._C.Generator at 0x7ffa51da51d0>"
      ]
     },
     "execution_count": 3,
     "metadata": {},
     "output_type": "execute_result"
    }
   ],
   "source": [
    "torch.manual_seed(2333)\n",
    "# torch.set_num_threads(1)"
   ]
  },
  {
   "cell_type": "code",
   "execution_count": 4,
   "id": "daa8700f",
   "metadata": {},
   "outputs": [
    {
     "data": {
      "text/plain": [
       "{'input_ids': tensor([[3041, 5372,  502,  416,  597, 2420,  345, 1549,  588,   13]]), 'attention_mask': tensor([[1, 1, 1, 1, 1, 1, 1, 1, 1, 1]])}"
      ]
     },
     "execution_count": 4,
     "metadata": {},
     "output_type": "execute_result"
    }
   ],
   "source": [
    "tokenizer = GPT2Tokenizer.from_pretrained('gpt2-medium')\n",
    "model = GPT2LMHeadModel.from_pretrained('gpt2-medium')\n",
    "model.eval()\n",
    "# model.config.return_dict = False\n",
    "text = \"Replace me by any text you'd like.\"\n",
    "encoded_input = tokenizer(text, return_tensors='pt')\n",
    "encoded_input"
   ]
  },
  {
   "cell_type": "code",
   "execution_count": 6,
   "id": "a8e49df9",
   "metadata": {},
   "outputs": [
    {
     "name": "stdout",
     "output_type": "stream",
     "text": [
      "GPT2LMHeadModel(\n",
      "  (transformer): GPT2Model(\n",
      "    (wte): Embedding(50264, 1024)\n",
      "    (wpe): Embedding(1024, 1024)\n",
      "    (drop): Dropout(p=0.1, inplace=False)\n",
      "    (h): ModuleList(\n",
      "      (0-23): 24 x GPT2Block(\n",
      "        (ln_1): LayerNorm((1024,), eps=1e-05, elementwise_affine=True)\n",
      "        (attn): GPT2Attention(\n",
      "          (c_attn): Conv1D()\n",
      "          (c_proj): Conv1D()\n",
      "          (attn_dropout): Dropout(p=0.1, inplace=False)\n",
      "          (resid_dropout): Dropout(p=0.1, inplace=False)\n",
      "        )\n",
      "        (ln_2): LayerNorm((1024,), eps=1e-05, elementwise_affine=True)\n",
      "        (mlp): GPT2MLP(\n",
      "          (c_fc): Conv1D()\n",
      "          (c_proj): Conv1D()\n",
      "          (act): NewGELUActivation()\n",
      "          (dropout): Dropout(p=0.1, inplace=False)\n",
      "        )\n",
      "      )\n",
      "    )\n",
      "    (ln_f): LayerNorm((1024,), eps=1e-05, elementwise_affine=True)\n",
      "  )\n",
      "  (lm_head): Linear(in_features=1024, out_features=50264, bias=False)\n",
      ")\n"
     ]
    }
   ],
   "source": [
    "model.transformer.wte = nn.Embedding(50264, 1024)\n",
    "model.lm_head = nn.Linear(1024, 50264, bias=False)\n",
    "print(model)"
   ]
  },
  {
   "cell_type": "code",
   "execution_count": 7,
   "id": "8a6ad6a7",
   "metadata": {},
   "outputs": [
    {
     "name": "stdout",
     "output_type": "stream",
     "text": [
      "GPT2Block(\n",
      "  (ln_1): LayerNorm((1024,), eps=1e-05, elementwise_affine=True)\n",
      "  (attn): GPT2Attention(\n",
      "    (c_attn): Conv1D()\n",
      "    (c_proj): Conv1D()\n",
      "    (attn_dropout): Dropout(p=0.1, inplace=False)\n",
      "    (resid_dropout): Dropout(p=0.1, inplace=False)\n",
      "  )\n",
      "  (ln_2): LayerNorm((1024,), eps=1e-05, elementwise_affine=True)\n",
      "  (mlp): GPT2MLP(\n",
      "    (c_fc): Conv1D()\n",
      "    (c_proj): Conv1D()\n",
      "    (act): NewGELUActivation()\n",
      "    (dropout): Dropout(p=0.1, inplace=False)\n",
      "  )\n",
      ")\n"
     ]
    }
   ],
   "source": [
    "print(model.transformer.h[0])"
   ]
  },
  {
   "cell_type": "code",
   "execution_count": 8,
   "id": "d754b8e6",
   "metadata": {},
   "outputs": [],
   "source": [
    "# Stage 0\n",
    "encoded_input_0 = {\n",
    "    'input_ids': torch.randint(0, 50264, (64, 255)),\n",
    "    'past_key_values': None\n",
    "}\n"
   ]
  },
  {
   "cell_type": "code",
   "execution_count": 9,
   "id": "17dd5f8e",
   "metadata": {},
   "outputs": [
    {
     "name": "stdout",
     "output_type": "stream",
     "text": [
      "torch.Size([64, 255, 50264])\n",
      "torch.Size([64, 16, 255, 64])\n",
      "CPU times: user 6min 42s, sys: 34.5 s, total: 7min 16s\n",
      "Wall time: 27.7 s\n"
     ]
    }
   ],
   "source": [
    "%%time\n",
    "with torch.no_grad():\n",
    "    output = model(**encoded_input_0)\n",
    "print(output.logits.shape)\n",
    "print(output.past_key_values[0][0].size())"
   ]
  },
  {
   "cell_type": "code",
   "execution_count": 10,
   "id": "c573dc97",
   "metadata": {},
   "outputs": [
    {
     "data": {
      "text/plain": [
       "torch.Size([64, 1])"
      ]
     },
     "execution_count": 10,
     "metadata": {},
     "output_type": "execute_result"
    }
   ],
   "source": [
    "# prepare for stage 1\n",
    "next_input = torch.argmax(output.logits[..., -1, :], dim=-1, keepdim=True)\n",
    "next_input.size()"
   ]
  },
  {
   "cell_type": "code",
   "execution_count": 12,
   "id": "7cf3eccf",
   "metadata": {},
   "outputs": [
    {
     "name": "stdout",
     "output_type": "stream",
     "text": [
      "CausalLMOutputWithCrossAttentions(loss=None, logits=tensor([[[ 1.5192,  0.9893, -2.6038,  ...,  7.5997,  4.8440,  9.3179]],\n",
      "\n",
      "        [[ 1.3508, -0.0699, -0.2945,  ...,  2.4565,  1.1106,  1.6794]],\n",
      "\n",
      "        [[ 4.3459,  2.4910, -2.1035,  ...,  5.9881,  6.9970,  8.0259]],\n",
      "\n",
      "        ...,\n",
      "\n",
      "        [[ 2.8136,  1.4874, -1.1700,  ...,  5.1903,  4.6788,  6.8327]],\n",
      "\n",
      "        [[ 1.1831,  0.5177, -0.7947,  ...,  3.9255,  2.6822,  4.2822]],\n",
      "\n",
      "        [[ 1.9604,  0.6672, -0.4625,  ...,  3.1965,  2.2869,  2.8252]]]), past_key_values=None, hidden_states=None, attentions=None, cross_attentions=None)\n",
      "CPU times: user 7.73 s, sys: 1.07 s, total: 8.8 s\n",
      "Wall time: 559 ms\n"
     ]
    }
   ],
   "source": [
    "%%time\n",
    "# Stage 1 without current past return\n",
    "model.config.use_cache = False\n",
    "\n",
    "with torch.no_grad():\n",
    "    next_output = model(next_input, past_key_values=output.past_key_values)\n",
    "print(next_output)"
   ]
  },
  {
   "cell_type": "code",
   "execution_count": 13,
   "id": "5d1157a7",
   "metadata": {},
   "outputs": [
    {
     "name": "stdout",
     "output_type": "stream",
     "text": [
      "['input_ids', 'past.0.key', 'past.0.value', 'past.1.key', 'past.1.value', 'past.2.key', 'past.2.value', 'past.3.key', 'past.3.value', 'past.4.key', 'past.4.value', 'past.5.key', 'past.5.value', 'past.6.key', 'past.6.value', 'past.7.key', 'past.7.value', 'past.8.key', 'past.8.value', 'past.9.key', 'past.9.value', 'past.10.key', 'past.10.value', 'past.11.key', 'past.11.value', 'past.12.key', 'past.12.value', 'past.13.key', 'past.13.value', 'past.14.key', 'past.14.value', 'past.15.key', 'past.15.value', 'past.16.key', 'past.16.value', 'past.17.key', 'past.17.value', 'past.18.key', 'past.18.value', 'past.19.key', 'past.19.value', 'past.20.key', 'past.20.value', 'past.21.key', 'past.21.value', 'past.22.key', 'past.22.value', 'past.23.key', 'past.23.value']\n",
      "['logits']\n"
     ]
    }
   ],
   "source": [
    "# Export\n",
    "def past_key_values_names(n: int, prefix: str):\n",
    "    for i in range(n):\n",
    "        yield \"{}.{}.key\".format(prefix, i)\n",
    "        yield \"{}.{}.value\".format(prefix, i)\n",
    "input_names = [\"input_ids\"] + list(past_key_values_names(24, \"past\"))\n",
    "# output_names = [\"logits\"] + list(past_key_values_names(24, \"present\"))\n",
    "output_names = [\"logits\"]\n",
    "print(input_names)\n",
    "print(output_names)"
   ]
  },
  {
   "cell_type": "code",
   "execution_count": 14,
   "id": "a76d1d1e",
   "metadata": {},
   "outputs": [
    {
     "name": "stdout",
     "output_type": "stream",
     "text": [
      "============== Diagnostic Run torch.onnx.export version 2.0.0+cpu ==============\n",
      "verbose: False, log level: Level.ERROR\n",
      "======================= 0 NONE 0 NOTE 0 WARNING 0 ERROR ========================\n",
      "\n"
     ]
    }
   ],
   "source": [
    "dummy_input = {\n",
    "    'input_ids': next_input,\n",
    "    'past_key_values': output.past_key_values\n",
    "}\n",
    "torch.onnx.export(model,\n",
    "                  dummy_input,\n",
    "                  \"./model_onnx/gpt2.onnx\",\n",
    "                  verbose=False,\n",
    "                  input_names=input_names,\n",
    "                  output_names=output_names)"
   ]
  },
  {
   "cell_type": "code",
   "execution_count": 15,
   "id": "3b5dbe43",
   "metadata": {},
   "outputs": [
    {
     "name": "stdout",
     "output_type": "stream",
     "text": [
      "torch.int64\n",
      "torch.float32\n",
      "torch.float32\n",
      "torch.float32\n",
      "torch.float32\n",
      "torch.float32\n",
      "torch.float32\n",
      "torch.float32\n",
      "torch.float32\n",
      "torch.float32\n",
      "torch.float32\n",
      "torch.float32\n",
      "torch.float32\n",
      "torch.float32\n",
      "torch.float32\n",
      "torch.float32\n",
      "torch.float32\n",
      "torch.float32\n",
      "torch.float32\n",
      "torch.float32\n",
      "torch.float32\n",
      "torch.float32\n",
      "torch.float32\n",
      "torch.float32\n",
      "torch.float32\n",
      "torch.float32\n",
      "torch.float32\n",
      "torch.float32\n",
      "torch.float32\n",
      "torch.float32\n",
      "torch.float32\n",
      "torch.float32\n",
      "torch.float32\n",
      "torch.float32\n",
      "torch.float32\n",
      "torch.float32\n",
      "torch.float32\n",
      "torch.float32\n",
      "torch.float32\n",
      "torch.float32\n",
      "torch.float32\n",
      "torch.float32\n",
      "torch.float32\n",
      "torch.float32\n",
      "torch.float32\n",
      "torch.float32\n",
      "torch.float32\n",
      "torch.float32\n",
      "torch.float32\n"
     ]
    }
   ],
   "source": [
    "save_to(dummy_input['input_ids'], './model_onnx/input_ids.dat')\n",
    "save_past_key_values(dummy_input['past_key_values'], 24, './model_onnx')"
   ]
  },
  {
   "cell_type": "code",
   "execution_count": null,
   "id": "d3e6de02",
   "metadata": {},
   "outputs": [],
   "source": []
  }
 ],
 "metadata": {
  "kernelspec": {
   "display_name": "Python 3 (ipykernel)",
   "language": "python",
   "name": "python3"
  },
  "language_info": {
   "codemirror_mode": {
    "name": "ipython",
    "version": 3
   },
   "file_extension": ".py",
   "mimetype": "text/x-python",
   "name": "python",
   "nbconvert_exporter": "python",
   "pygments_lexer": "ipython3",
   "version": "3.8.10"
  },
  "vscode": {
   "interpreter": {
    "hash": "fca996da59dbb3c6fdf51f411e855733054c0b4b8857c96311698dd9fcd1dd43"
   }
  }
 },
 "nbformat": 4,
 "nbformat_minor": 5
}
