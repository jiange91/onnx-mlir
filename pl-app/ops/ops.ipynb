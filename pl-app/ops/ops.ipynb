{
 "cells": [
  {
   "cell_type": "code",
   "execution_count": 9,
   "id": "fd3be722",
   "metadata": {},
   "outputs": [],
   "source": [
    "import torch\n",
    "from torch import nn\n",
    "import os\n",
    "\n",
    "torch.set_num_threads(1)"
   ]
  },
  {
   "cell_type": "code",
   "execution_count": 10,
   "id": "08ae8acb",
   "metadata": {},
   "outputs": [],
   "source": [
    "import numpy as np\n",
    "\n",
    "def save_to(base, x, y):\n",
    "    np_input = x.detach().numpy()\n",
    "    with open(os.path.join(base, 'dummy_in.dat'), 'wb') as f:\n",
    "        np_input.tofile(f)\n",
    "\n",
    "    np_output = y.detach().numpy()\n",
    "    with open(os.path.join(base, 'dummy_out.dat'), 'wb') as f:\n",
    "        np_output.tofile(f)"
   ]
  },
  {
   "cell_type": "code",
   "execution_count": 2,
   "id": "7df37394",
   "metadata": {},
   "outputs": [],
   "source": [
    "conv = nn.Sequential(\n",
    "    nn.Conv2d(1, 32, kernel_size=3, stride=1, padding=0, bias=False)\n",
    ")"
   ]
  },
  {
   "cell_type": "code",
   "execution_count": 3,
   "id": "d9dc66d6",
   "metadata": {},
   "outputs": [],
   "source": [
    "x = torch.rand(10000, 1, 28, 28)"
   ]
  },
  {
   "cell_type": "code",
   "execution_count": 4,
   "id": "cba0f851",
   "metadata": {},
   "outputs": [
    {
     "name": "stdout",
     "output_type": "stream",
     "text": [
      "CPU times: user 752 ms, sys: 1.5 s, total: 2.26 s\n",
      "Wall time: 204 ms\n"
     ]
    }
   ],
   "source": [
    "%%time\n",
    "\n",
    "y = conv(x)"
   ]
  },
  {
   "cell_type": "code",
   "execution_count": 5,
   "id": "488506c2",
   "metadata": {},
   "outputs": [],
   "source": [
    "input_names = [\"image\"]\n",
    "output_names = [\"prediction\"]\n",
    "dummy_input = torch.randn(10000, 1, 28, 28)\n",
    "torch.onnx.export(conv,\n",
    "                  dummy_input,\n",
    "                  \"conv/convolution1.onnx\",\n",
    "                  verbose=False,\n",
    "                  input_names=input_names,\n",
    "                  output_names=output_names)"
   ]
  },
  {
   "cell_type": "code",
   "execution_count": 6,
   "id": "5705d06f",
   "metadata": {},
   "outputs": [],
   "source": [
    "conv2 = nn.Conv2d(32, 64, 3, 1)"
   ]
  },
  {
   "cell_type": "code",
   "execution_count": 7,
   "id": "82b08bb9",
   "metadata": {},
   "outputs": [],
   "source": [
    "x = torch.rand(10000, 32, 26, 26)"
   ]
  },
  {
   "cell_type": "code",
   "execution_count": 8,
   "id": "d1e339ed",
   "metadata": {},
   "outputs": [
    {
     "name": "stdout",
     "output_type": "stream",
     "text": [
      "CPU times: user 6.72 s, sys: 2.8 s, total: 9.52 s\n",
      "Wall time: 834 ms\n"
     ]
    },
    {
     "data": {
      "text/plain": [
       "torch.Size([10000, 64, 24, 24])"
      ]
     },
     "execution_count": 8,
     "metadata": {},
     "output_type": "execute_result"
    }
   ],
   "source": [
    "%%time\n",
    "y = conv2(x)\n",
    "y.size()"
   ]
  },
  {
   "cell_type": "code",
   "execution_count": 9,
   "id": "600a0667",
   "metadata": {},
   "outputs": [],
   "source": [
    "input_names = [\"image\"]\n",
    "output_names = [\"prediction\"]\n",
    "dummy_input = torch.randn(10000, 32, 26, 26)\n",
    "torch.onnx.export(conv2,\n",
    "                  dummy_input,\n",
    "                  \"conv/convolution2.onnx\",\n",
    "                  verbose=False,\n",
    "                  input_names=input_names,\n",
    "                  output_names=output_names)"
   ]
  },
  {
   "cell_type": "code",
   "execution_count": 12,
   "id": "ced4bd4a",
   "metadata": {},
   "outputs": [],
   "source": [
    "r2 = nn.ReLU()"
   ]
  },
  {
   "cell_type": "code",
   "execution_count": 13,
   "id": "8b324c4f",
   "metadata": {},
   "outputs": [
    {
     "name": "stdout",
     "output_type": "stream",
     "text": [
      "CPU times: user 508 ms, sys: 1.62 s, total: 2.13 s\n",
      "Wall time: 136 ms\n"
     ]
    },
    {
     "data": {
      "text/plain": [
       "torch.Size([10000, 64, 24, 24])"
      ]
     },
     "execution_count": 13,
     "metadata": {},
     "output_type": "execute_result"
    }
   ],
   "source": [
    "%%time\n",
    "y = r2(y)\n",
    "y.size()"
   ]
  },
  {
   "cell_type": "code",
   "execution_count": 18,
   "id": "35011157",
   "metadata": {},
   "outputs": [],
   "source": [
    "input_names = [\"image\"]\n",
    "output_names = [\"prediction\"]\n",
    "dummy_input = torch.randn(10000, 64, 24, 24)\n",
    "torch.onnx.export(r2,\n",
    "                  dummy_input,\n",
    "                  \"relu/r2.onnx\",\n",
    "                  verbose=False,\n",
    "                  input_names=input_names,\n",
    "                  output_names=output_names)"
   ]
  },
  {
   "cell_type": "code",
   "execution_count": 15,
   "id": "48b4cf3b",
   "metadata": {},
   "outputs": [],
   "source": [
    "mp = nn.MaxPool2d(kernel_size=2, stride=2)"
   ]
  },
  {
   "cell_type": "code",
   "execution_count": 16,
   "id": "1459e19f",
   "metadata": {},
   "outputs": [
    {
     "name": "stdout",
     "output_type": "stream",
     "text": [
      "CPU times: user 2.6 s, sys: 500 ms, total: 3.1 s\n",
      "Wall time: 229 ms\n"
     ]
    },
    {
     "data": {
      "text/plain": [
       "torch.Size([10000, 64, 12, 12])"
      ]
     },
     "execution_count": 16,
     "metadata": {},
     "output_type": "execute_result"
    }
   ],
   "source": [
    "%%time\n",
    "y = mp(y)\n",
    "y.size()"
   ]
  },
  {
   "cell_type": "code",
   "execution_count": 19,
   "id": "3fc607d5",
   "metadata": {},
   "outputs": [],
   "source": [
    "input_names = [\"image\"]\n",
    "output_names = [\"prediction\"]\n",
    "dummy_input = torch.randn(10000, 64, 24, 24)\n",
    "torch.onnx.export(mp,\n",
    "                  dummy_input,\n",
    "                  \"maxpool/maxpool.onnx\",\n",
    "                  verbose=False,\n",
    "                  input_names=input_names,\n",
    "                  output_names=output_names)"
   ]
  },
  {
   "cell_type": "code",
   "execution_count": 20,
   "id": "3a47c49d",
   "metadata": {},
   "outputs": [],
   "source": [
    "softmax = nn.LogSoftmax(dim=1)\n",
    "x = torch.rand(10000, 10)"
   ]
  },
  {
   "cell_type": "code",
   "execution_count": 21,
   "id": "48d9ff04",
   "metadata": {},
   "outputs": [
    {
     "name": "stdout",
     "output_type": "stream",
     "text": [
      "CPU times: user 80 ms, sys: 200 ms, total: 280 ms\n",
      "Wall time: 208 ms\n"
     ]
    },
    {
     "data": {
      "text/plain": [
       "torch.Size([10000, 10])"
      ]
     },
     "execution_count": 21,
     "metadata": {},
     "output_type": "execute_result"
    }
   ],
   "source": [
    "%%time\n",
    "y = softmax(x)\n",
    "y.size()"
   ]
  },
  {
   "cell_type": "code",
   "execution_count": 23,
   "id": "96e3dd97",
   "metadata": {},
   "outputs": [],
   "source": [
    "input_names = [\"image\"]\n",
    "output_names = [\"prediction\"]\n",
    "dummy_input = torch.randn(10000, 10)\n",
    "torch.onnx.export(softmax,\n",
    "                  dummy_input,\n",
    "                  \"Lsm/lsm.onnx\",\n",
    "                  verbose=False,\n",
    "                  input_names=input_names,\n",
    "                  output_names=output_names)"
   ]
  },
  {
   "cell_type": "code",
   "execution_count": 6,
   "id": "05cd6eca",
   "metadata": {},
   "outputs": [
    {
     "name": "stdout",
     "output_type": "stream",
     "text": [
      "TransformerEncoderLayer(\n",
      "  (self_attn): MultiheadAttention(\n",
      "    (out_proj): NonDynamicallyQuantizableLinear(in_features=512, out_features=512, bias=True)\n",
      "  )\n",
      "  (linear1): Linear(in_features=512, out_features=2048, bias=True)\n",
      "  (dropout): Dropout(p=0.1, inplace=False)\n",
      "  (linear2): Linear(in_features=2048, out_features=512, bias=True)\n",
      "  (norm1): LayerNorm((512,), eps=1e-05, elementwise_affine=True)\n",
      "  (norm2): LayerNorm((512,), eps=1e-05, elementwise_affine=True)\n",
      "  (dropout1): Dropout(p=0.1, inplace=False)\n",
      "  (dropout2): Dropout(p=0.1, inplace=False)\n",
      ")\n"
     ]
    }
   ],
   "source": [
    "encoder_layer = nn.TransformerEncoderLayer(d_model=512, nhead=2, batch_first=False)\n",
    "x = torch.rand(7 * 24 * 6, 64, 512)\n",
    "print(encoder_layer)"
   ]
  },
  {
   "cell_type": "code",
   "execution_count": 7,
   "id": "2dc3ede8",
   "metadata": {},
   "outputs": [
    {
     "name": "stdout",
     "output_type": "stream",
     "text": [
      "CPU times: user 14.6 s, sys: 2.99 s, total: 17.6 s\n",
      "Wall time: 17.6 s\n"
     ]
    },
    {
     "data": {
      "text/plain": [
       "torch.Size([1008, 64, 512])"
      ]
     },
     "execution_count": 7,
     "metadata": {},
     "output_type": "execute_result"
    }
   ],
   "source": [
    "%%time\n",
    "\n",
    "y = encoder_layer(x)\n",
    "y.size()"
   ]
  },
  {
   "cell_type": "code",
   "execution_count": 11,
   "id": "76254541",
   "metadata": {},
   "outputs": [],
   "source": [
    "save_to('attention', x, y)"
   ]
  },
  {
   "cell_type": "code",
   "execution_count": 8,
   "id": "4d69b6ac",
   "metadata": {},
   "outputs": [],
   "source": [
    "input_names = [\"series\"]\n",
    "output_names = [\"prediction\"]\n",
    "dummy_input = x\n",
    "torch.onnx.export(encoder_layer,\n",
    "                  dummy_input,\n",
    "                  \"attention/encoder.onnx\",\n",
    "                  verbose=False,\n",
    "                  input_names=input_names,\n",
    "                  output_names=output_names)"
   ]
  },
  {
   "cell_type": "code",
   "execution_count": null,
   "id": "54b39de5",
   "metadata": {},
   "outputs": [],
   "source": []
  }
 ],
 "metadata": {
  "kernelspec": {
   "display_name": "Python 3 (ipykernel)",
   "language": "python",
   "name": "python3"
  },
  "language_info": {
   "codemirror_mode": {
    "name": "ipython",
    "version": 3
   },
   "file_extension": ".py",
   "mimetype": "text/x-python",
   "name": "python",
   "nbconvert_exporter": "python",
   "pygments_lexer": "ipython3",
   "version": "3.8.10"
  }
 },
 "nbformat": 4,
 "nbformat_minor": 5
}
