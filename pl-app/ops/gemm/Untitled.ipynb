{
 "cells": [
  {
   "cell_type": "code",
   "execution_count": 4,
   "id": "dc788d2d",
   "metadata": {},
   "outputs": [
    {
     "name": "stdout",
     "output_type": "stream",
     "text": [
      "openblas64__info:\n",
      "    libraries = ['openblas64_', 'openblas64_']\n",
      "    library_dirs = ['/usr/local/lib']\n",
      "    language = c\n",
      "    define_macros = [('HAVE_CBLAS', None), ('BLAS_SYMBOL_SUFFIX', '64_'), ('HAVE_BLAS_ILP64', None)]\n",
      "    runtime_library_dirs = ['/usr/local/lib']\n",
      "blas_ilp64_opt_info:\n",
      "    libraries = ['openblas64_', 'openblas64_']\n",
      "    library_dirs = ['/usr/local/lib']\n",
      "    language = c\n",
      "    define_macros = [('HAVE_CBLAS', None), ('BLAS_SYMBOL_SUFFIX', '64_'), ('HAVE_BLAS_ILP64', None)]\n",
      "    runtime_library_dirs = ['/usr/local/lib']\n",
      "openblas64__lapack_info:\n",
      "    libraries = ['openblas64_', 'openblas64_']\n",
      "    library_dirs = ['/usr/local/lib']\n",
      "    language = c\n",
      "    define_macros = [('HAVE_CBLAS', None), ('BLAS_SYMBOL_SUFFIX', '64_'), ('HAVE_BLAS_ILP64', None), ('HAVE_LAPACKE', None)]\n",
      "    runtime_library_dirs = ['/usr/local/lib']\n",
      "lapack_ilp64_opt_info:\n",
      "    libraries = ['openblas64_', 'openblas64_']\n",
      "    library_dirs = ['/usr/local/lib']\n",
      "    language = c\n",
      "    define_macros = [('HAVE_CBLAS', None), ('BLAS_SYMBOL_SUFFIX', '64_'), ('HAVE_BLAS_ILP64', None), ('HAVE_LAPACKE', None)]\n",
      "    runtime_library_dirs = ['/usr/local/lib']\n",
      "Supported SIMD extensions in this NumPy install:\n",
      "    baseline = SSE,SSE2,SSE3\n",
      "    found = SSSE3,SSE41,POPCNT,SSE42,AVX,F16C\n",
      "    not found = FMA3,AVX2,AVX512F,AVX512CD,AVX512_KNL,AVX512_KNM,AVX512_SKX,AVX512_CLX,AVX512_CNL,AVX512_ICL\n"
     ]
    }
   ],
   "source": [
    "import numpy as np\n",
    "import torch\n",
    "import time\n",
    "import torch.nn as nn\n",
    "\n",
    "torch.set_num_threads(1)\n",
    "\n",
    "from threadpoolctl import threadpool_limits\n",
    "np.show_config()"
   ]
  },
  {
   "cell_type": "code",
   "execution_count": 2,
   "id": "261b66c2",
   "metadata": {},
   "outputs": [],
   "source": [
    "def perf_matmul(ashape, bshape):\n",
    "    A = torch.rand(ashape)\n",
    "    B = torch.rand(bshape)\n",
    "    start = time.time()\n",
    "    C = torch.matmul(A, B)\n",
    "    print(C.size())\n",
    "    print(time.time() - start)\n",
    "    \n",
    "def np_perf(ashape, bshape):\n",
    "    A = np.random.randn(*ashape)\n",
    "    B = np.random.randn(*bshape)\n",
    "    start = time.time()\n",
    "    with threadpool_limits(limits=1, user_api='blas'):\n",
    "        C = A @ B\n",
    "        print(C.shape)\n",
    "    print(time.time() - start)"
   ]
  },
  {
   "cell_type": "code",
   "execution_count": 3,
   "id": "b5bbad48",
   "metadata": {},
   "outputs": [
    {
     "name": "stdout",
     "output_type": "stream",
     "text": [
      "torch.Size([1008, 64, 1536])\n",
      "2.458440065383911\n",
      "(1008, 64, 1536)\n",
      "5.642819404602051\n"
     ]
    }
   ],
   "source": [
    "perf_matmul((1008, 64, 512), (512, 1536))\n",
    "\n",
    "np_perf((1008, 64, 512), (512, 1536))"
   ]
  },
  {
   "cell_type": "code",
   "execution_count": 4,
   "id": "0933cb2c",
   "metadata": {},
   "outputs": [
    {
     "name": "stdout",
     "output_type": "stream",
     "text": [
      "torch.Size([128, 1008, 256])\n",
      "1.9739768505096436\n",
      "(128, 1008, 256)\n",
      "3.0647637844085693\n"
     ]
    }
   ],
   "source": [
    "perf_matmul((128, 1008, 1008), (128, 1008, 256))\n",
    "\n",
    "np_perf((128, 1008, 1008), (128, 1008, 256))"
   ]
  },
  {
   "cell_type": "code",
   "execution_count": 3,
   "id": "43ceb2c1",
   "metadata": {},
   "outputs": [
    {
     "name": "stdout",
     "output_type": "stream",
     "text": [
      "torch.Size([64512, 512])\n",
      "0.7357625961303711\n",
      "(64512, 512)\n",
      "1.724242925643921\n"
     ]
    }
   ],
   "source": [
    "perf_matmul((64512, 512), (512, 512))\n",
    "\n",
    "np_perf((64512, 512), (512, 512))"
   ]
  },
  {
   "cell_type": "code",
   "execution_count": 6,
   "id": "fd24d6a0",
   "metadata": {},
   "outputs": [
    {
     "name": "stdout",
     "output_type": "stream",
     "text": [
      "torch.Size([1008, 64, 2048])\n",
      "2.8759877681732178\n",
      "(1008, 64, 2048)\n",
      "7.270247936248779\n"
     ]
    }
   ],
   "source": [
    "perf_matmul((1008, 64, 512), (512, 2048))\n",
    "\n",
    "np_perf((1008, 64, 512), (512, 2048))"
   ]
  },
  {
   "cell_type": "code",
   "execution_count": 7,
   "id": "276112e3",
   "metadata": {},
   "outputs": [
    {
     "name": "stdout",
     "output_type": "stream",
     "text": [
      "torch.Size([1008, 64, 512])\n",
      "2.827690601348877\n",
      "(1008, 64, 512)\n",
      "7.1652514934539795\n"
     ]
    }
   ],
   "source": [
    "perf_matmul((1008, 64, 2048), (2048, 512))\n",
    "np_perf((1008, 64, 2048), (2048, 512))"
   ]
  },
  {
   "cell_type": "code",
   "execution_count": 8,
   "id": "02d1d4a9",
   "metadata": {},
   "outputs": [],
   "source": [
    "w = torch.nn.Linear(512, 2048)\n",
    "\n",
    "x = torch.rand((64512, 512))"
   ]
  },
  {
   "cell_type": "code",
   "execution_count": 9,
   "id": "3915589a",
   "metadata": {},
   "outputs": [
    {
     "name": "stdout",
     "output_type": "stream",
     "text": [
      "CPU times: user 2.96 s, sys: 660 ms, total: 3.62 s\n",
      "Wall time: 3.62 s\n"
     ]
    },
    {
     "data": {
      "text/plain": [
       "torch.Size([64512, 2048])"
      ]
     },
     "execution_count": 9,
     "metadata": {},
     "output_type": "execute_result"
    }
   ],
   "source": [
    "%%time\n",
    "\n",
    "y = w(x)\n",
    "y.size()"
   ]
  },
  {
   "cell_type": "code",
   "execution_count": 10,
   "id": "edd6d99b",
   "metadata": {},
   "outputs": [],
   "source": [
    "input_names = [\"x\"]\n",
    "output_names = [\"y\"]\n",
    "dummy_input = x\n",
    "torch.onnx.export(w,\n",
    "                  dummy_input,\n",
    "                  \"./gemm.onnx\",\n",
    "                  verbose=False,\n",
    "                  input_names=input_names,\n",
    "                  output_names=output_names)"
   ]
  },
  {
   "cell_type": "code",
   "execution_count": null,
   "id": "71447bfe",
   "metadata": {},
   "outputs": [],
   "source": []
  }
 ],
 "metadata": {
  "kernelspec": {
   "display_name": "Python 3 (ipykernel)",
   "language": "python",
   "name": "python3"
  },
  "language_info": {
   "codemirror_mode": {
    "name": "ipython",
    "version": 3
   },
   "file_extension": ".py",
   "mimetype": "text/x-python",
   "name": "python",
   "nbconvert_exporter": "python",
   "pygments_lexer": "ipython3",
   "version": "3.8.10"
  }
 },
 "nbformat": 4,
 "nbformat_minor": 5
}
