{
 "cells": [
  {
   "cell_type": "code",
   "execution_count": 1,
   "id": "dccfee75",
   "metadata": {},
   "outputs": [],
   "source": [
    "from transformers import GPT2Tokenizer, GPT2LMHeadModel, GenerationConfig, GPT2Config\n",
    "import torch\n",
    "import torch.nn as nn\n",
    "import os\n",
    "from pathlib import Path\n",
    "\n",
    "import transformers\n",
    "from onnxruntime import InferenceSession\n",
    "from transformers.onnx.features import FeaturesManager\n",
    "from optimum.exporters.tasks import TasksManager"
   ]
  },
  {
   "cell_type": "code",
   "execution_count": 2,
   "id": "b49e7df6",
   "metadata": {},
   "outputs": [],
   "source": [
    "import numpy as np\n",
    "\n",
    "def save_to(x, fp):\n",
    "    os.makedirs(os.path.dirname(fp), exist_ok=True)\n",
    "    print(x.dtype)\n",
    "    np_x = x.detach().numpy()\n",
    "    with open(fp, 'wb') as f:\n",
    "        np_x.tofile(f)\n",
    "\n",
    "def save_past_key_values(x, n, d):\n",
    "    for l in range(n):\n",
    "        k, v = x[l]\n",
    "        fp = os.path.join(d, \"past_key_values\", \"{}.{}\".format('past', l))\n",
    "        save_to(k, fp + '.key')\n",
    "        save_to(v, fp + '.value')"
   ]
  },
  {
   "cell_type": "code",
   "execution_count": 3,
   "id": "ae44fc70",
   "metadata": {},
   "outputs": [
    {
     "data": {
      "text/plain": [
       "<torch._C.Generator at 0x7f82921811b0>"
      ]
     },
     "execution_count": 3,
     "metadata": {},
     "output_type": "execute_result"
    }
   ],
   "source": [
    "torch.manual_seed(2333)\n",
    "# torch.set_num_threads(1)"
   ]
  },
  {
   "cell_type": "code",
   "execution_count": 4,
   "id": "daa8700f",
   "metadata": {},
   "outputs": [
    {
     "data": {
      "text/plain": [
       "{'input_ids': tensor([[3041, 5372,  502,  416,  597, 2420,  345, 1549,  588,   13]]), 'attention_mask': tensor([[1, 1, 1, 1, 1, 1, 1, 1, 1, 1]])}"
      ]
     },
     "execution_count": 4,
     "metadata": {},
     "output_type": "execute_result"
    }
   ],
   "source": [
    "tokenizer = GPT2Tokenizer.from_pretrained('gpt2')\n",
    "model = GPT2LMHeadModel.from_pretrained('gpt2')\n",
    "model.eval()\n",
    "# model.config.return_dict = False\n",
    "text = \"Replace me by any text you'd like.\"\n",
    "encoded_input = tokenizer(text, return_tensors='pt')\n",
    "encoded_input"
   ]
  },
  {
   "cell_type": "code",
   "execution_count": 5,
   "id": "a8e49df9",
   "metadata": {},
   "outputs": [
    {
     "name": "stdout",
     "output_type": "stream",
     "text": [
      "GPT2LMHeadModel(\n",
      "  (transformer): GPT2Model(\n",
      "    (wte): Embedding(50257, 768)\n",
      "    (wpe): Embedding(1024, 768)\n",
      "    (drop): Dropout(p=0.1, inplace=False)\n",
      "    (h): ModuleList(\n",
      "      (0-11): 12 x GPT2Block(\n",
      "        (ln_1): LayerNorm((768,), eps=1e-05, elementwise_affine=True)\n",
      "        (attn): GPT2Attention(\n",
      "          (c_attn): Conv1D()\n",
      "          (c_proj): Conv1D()\n",
      "          (attn_dropout): Dropout(p=0.1, inplace=False)\n",
      "          (resid_dropout): Dropout(p=0.1, inplace=False)\n",
      "        )\n",
      "        (ln_2): LayerNorm((768,), eps=1e-05, elementwise_affine=True)\n",
      "        (mlp): GPT2MLP(\n",
      "          (c_fc): Conv1D()\n",
      "          (c_proj): Conv1D()\n",
      "          (act): NewGELUActivation()\n",
      "          (dropout): Dropout(p=0.1, inplace=False)\n",
      "        )\n",
      "      )\n",
      "    )\n",
      "    (ln_f): LayerNorm((768,), eps=1e-05, elementwise_affine=True)\n",
      "  )\n",
      "  (lm_head): Linear(in_features=768, out_features=50257, bias=False)\n",
      ")\n"
     ]
    }
   ],
   "source": [
    "print(model)"
   ]
  },
  {
   "cell_type": "code",
   "execution_count": 6,
   "id": "d754b8e6",
   "metadata": {},
   "outputs": [],
   "source": [
    "# Stage 0\n",
    "encoded_input_0 = {\n",
    "    'input_ids': torch.randint(0, 50257, (64, 256)),\n",
    "    'past_key_values': None\n",
    "}\n"
   ]
  },
  {
   "cell_type": "code",
   "execution_count": null,
   "id": "5e9f3bf0",
   "metadata": {},
   "outputs": [],
   "source": []
  },
  {
   "cell_type": "code",
   "execution_count": 7,
   "id": "17dd5f8e",
   "metadata": {},
   "outputs": [
    {
     "name": "stdout",
     "output_type": "stream",
     "text": [
      "torch.Size([64, 256, 50257])\n",
      "torch.Size([64, 12, 256, 64])\n",
      "CPU times: user 2min 24s, sys: 13.5 s, total: 2min 37s\n",
      "Wall time: 10.1 s\n"
     ]
    }
   ],
   "source": [
    "%%time\n",
    "with torch.no_grad():\n",
    "    output = model(**encoded_input_0)\n",
    "print(output.logits.shape)\n",
    "print(output.past_key_values[0][0].size())"
   ]
  },
  {
   "cell_type": "code",
   "execution_count": 8,
   "id": "c573dc97",
   "metadata": {},
   "outputs": [
    {
     "data": {
      "text/plain": [
       "torch.Size([64, 1])"
      ]
     },
     "execution_count": 8,
     "metadata": {},
     "output_type": "execute_result"
    }
   ],
   "source": [
    "# prepare for stage 1\n",
    "next_input = torch.argmax(output.logits[..., -1, :], dim=-1, keepdim=True)\n",
    "next_input.size()"
   ]
  },
  {
   "cell_type": "code",
   "execution_count": 11,
   "id": "6961c14e",
   "metadata": {},
   "outputs": [
    {
     "name": "stdout",
     "output_type": "stream",
     "text": [
      "CausalLMOutputWithCrossAttentions(loss=None, logits=tensor([[[-58.6922, -59.2055, -59.6426,  ..., -59.9432, -61.9034, -57.4000]],\n",
      "\n",
      "        [[-64.6238, -63.8287, -63.8751,  ..., -71.0728, -69.9986, -64.9882]],\n",
      "\n",
      "        [[-55.1815, -55.1395, -56.2996,  ..., -58.6072, -57.5121, -54.7201]],\n",
      "\n",
      "        ...,\n",
      "\n",
      "        [[-78.0860, -77.6450, -77.4851,  ..., -86.3432, -84.5547, -78.6800]],\n",
      "\n",
      "        [[-57.6484, -57.4646, -58.4835,  ..., -60.0685, -60.9240, -57.5087]],\n",
      "\n",
      "        [[-62.8545, -63.7144, -64.6444,  ..., -66.4942, -67.8090, -63.4077]]]), past_key_values=None, hidden_states=None, attentions=None, cross_attentions=None)\n",
      "CPU times: user 3.03 s, sys: 562 ms, total: 3.59 s\n",
      "Wall time: 228 ms\n"
     ]
    }
   ],
   "source": [
    "%%time\n",
    "\n",
    "# Stage 1\n",
    "model.config.use_cache = False\n",
    "with torch.no_grad():\n",
    "    next_output = model(next_input, past_key_values=output.past_key_values)\n",
    "print(next_output)"
   ]
  },
  {
   "cell_type": "code",
   "execution_count": 9,
   "id": "7cf3eccf",
   "metadata": {},
   "outputs": [
    {
     "name": "stdout",
     "output_type": "stream",
     "text": [
      "torch.Size([64, 1, 50257])\n",
      "torch.Size([64, 12, 257, 64])\n",
      "CPU times: user 2.32 s, sys: 1.68 s, total: 4 s\n",
      "Wall time: 257 ms\n"
     ]
    }
   ],
   "source": [
    "%%time\n",
    "\n",
    "# Stage 1\n",
    "with torch.no_grad():\n",
    "    next_output = model(next_input, past_key_values=output.past_key_values)\n",
    "print(next_output.logits.shape)\n",
    "print(next_output.past_key_values[0][0].size())"
   ]
  },
  {
   "cell_type": "code",
   "execution_count": 14,
   "id": "5d1157a7",
   "metadata": {},
   "outputs": [
    {
     "name": "stdout",
     "output_type": "stream",
     "text": [
      "['input_ids', 'past.0.key', 'past.0.value', 'past.1.key', 'past.1.value', 'past.2.key', 'past.2.value', 'past.3.key', 'past.3.value', 'past.4.key', 'past.4.value', 'past.5.key', 'past.5.value', 'past.6.key', 'past.6.value', 'past.7.key', 'past.7.value', 'past.8.key', 'past.8.value', 'past.9.key', 'past.9.value', 'past.10.key', 'past.10.value', 'past.11.key', 'past.11.value']\n",
      "['logits']\n"
     ]
    }
   ],
   "source": [
    "# Export\n",
    "def past_key_values_names(n: int, prefix: str):\n",
    "    for i in range(n):\n",
    "        yield \"{}.{}.key\".format(prefix, i)\n",
    "        yield \"{}.{}.value\".format(prefix, i)\n",
    "\n",
    "def prepare_dimension(in_name, out_name):\n",
    "    ds = {}\n",
    "    for name in in_name + out_name:\n",
    "        if name.startswith('past') or name.startswith('present'):\n",
    "            ds[name] = {2: 'seq_length'}\n",
    "    return ds\n",
    "\n",
    "input_names = [\"input_ids\"] + list(past_key_values_names(12, \"past\"))\n",
    "# output_names = [\"logits\"] + list(past_key_values_names(12, \"present\"))\n",
    "output_names = [\"logits\"]\n",
    "# dyn_dimensions = prepare_dimension(input_names, output_names)\n",
    "print(input_names)\n",
    "print(output_names)\n",
    "# print(dyn_dimensions)\n",
    "\n",
    "dummy_input = {\n",
    "    'input_ids': next_input,\n",
    "    'past_key_values': output.past_key_values\n",
    "}"
   ]
  },
  {
   "cell_type": "code",
   "execution_count": 15,
   "id": "9f94a8b9",
   "metadata": {},
   "outputs": [
    {
     "name": "stdout",
     "output_type": "stream",
     "text": [
      "============== Diagnostic Run torch.onnx.export version 2.0.0+cpu ==============\n",
      "verbose: False, log level: Level.ERROR\n",
      "======================= 0 NONE 0 NOTE 0 WARNING 0 ERROR ========================\n",
      "\n"
     ]
    }
   ],
   "source": [
    "torch.onnx.export(model,\n",
    "                  dummy_input,\n",
    "                  \"./model_onnx/gpt2.onnx\",\n",
    "                  verbose=False,\n",
    "                  input_names=input_names,\n",
    "                  output_names=output_names,\n",
    "                  dynamic_axes=None)"
   ]
  },
  {
   "cell_type": "code",
   "execution_count": 16,
   "id": "3b5dbe43",
   "metadata": {},
   "outputs": [
    {
     "name": "stdout",
     "output_type": "stream",
     "text": [
      "torch.int64\n",
      "torch.float32\n",
      "torch.float32\n",
      "torch.float32\n",
      "torch.float32\n",
      "torch.float32\n",
      "torch.float32\n",
      "torch.float32\n",
      "torch.float32\n",
      "torch.float32\n",
      "torch.float32\n",
      "torch.float32\n",
      "torch.float32\n",
      "torch.float32\n",
      "torch.float32\n",
      "torch.float32\n",
      "torch.float32\n",
      "torch.float32\n",
      "torch.float32\n",
      "torch.float32\n",
      "torch.float32\n",
      "torch.float32\n",
      "torch.float32\n",
      "torch.float32\n",
      "torch.float32\n"
     ]
    }
   ],
   "source": [
    "save_to(dummy_input['input_ids'], './model_onnx/input_ids.dat')\n",
    "save_past_key_values(dummy_input['past_key_values'], 12, './model_onnx')"
   ]
  },
  {
   "cell_type": "code",
   "execution_count": 19,
   "id": "eada2747",
   "metadata": {},
   "outputs": [],
   "source": [
    "gen_cfg = GenerationConfig(\n",
    "    pad_token_id = tokenizer.eos_token_id, \n",
    "    use_cache = True,\n",
    "    max_new_tokens = 128)"
   ]
  },
  {
   "cell_type": "code",
   "execution_count": 20,
   "id": "afd62256",
   "metadata": {},
   "outputs": [
    {
     "name": "stdout",
     "output_type": "stream",
     "text": [
      "Replace me by any text you'd like.\n",
      "\n",
      "I'm not sure if you're aware of this, but I'm not sure if you're aware of this, but I'm not sure if you're aware of this, but I'm not sure if you're aware of this, but I'm not sure if you're aware of this, but I'm not sure if you're aware of this, but I'm not sure if you're aware of this, but I'm not sure if you're aware of this, but I'm not sure if you're aware of this, but I'm not sure if you're aware of this, but I'm not sure if you\n",
      "CPU times: user 5.14 s, sys: 264 ms, total: 5.41 s\n",
      "Wall time: 5.46 s\n"
     ]
    }
   ],
   "source": [
    "%%time\n",
    "output = model.generate(**encoded_input, generation_config=gen_cfg)\n",
    "print(tokenizer.decode(output[0]))"
   ]
  },
  {
   "cell_type": "code",
   "execution_count": null,
   "id": "a8083ca8",
   "metadata": {},
   "outputs": [],
   "source": []
  }
 ],
 "metadata": {
  "kernelspec": {
   "display_name": "Python 3 (ipykernel)",
   "language": "python",
   "name": "python3"
  },
  "language_info": {
   "codemirror_mode": {
    "name": "ipython",
    "version": 3
   },
   "file_extension": ".py",
   "mimetype": "text/x-python",
   "name": "python",
   "nbconvert_exporter": "python",
   "pygments_lexer": "ipython3",
   "version": "3.8.10"
  },
  "vscode": {
   "interpreter": {
    "hash": "fca996da59dbb3c6fdf51f411e855733054c0b4b8857c96311698dd9fcd1dd43"
   }
  }
 },
 "nbformat": 4,
 "nbformat_minor": 5
}
