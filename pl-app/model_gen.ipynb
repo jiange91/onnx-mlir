{
 "cells": [
  {
   "cell_type": "code",
   "execution_count": 1,
   "id": "eb7b5715",
   "metadata": {},
   "outputs": [],
   "source": [
    "import torch\n",
    "from torch import nn\n",
    "from torch.utils.data import DataLoader\n",
    "from torchvision import datasets\n",
    "from torchvision.transforms import ToTensor\n",
    "import torch.optim as optim\n",
    "from torch.optim.lr_scheduler import StepLR\n",
    "import torch.nn.functional as F\n",
    "from torchvision import datasets, transforms"
   ]
  },
  {
   "cell_type": "code",
   "execution_count": 2,
   "id": "ffbdd9bc",
   "metadata": {},
   "outputs": [
    {
     "data": {
      "text/plain": [
       "<torch._C.Generator at 0x7f3e15655590>"
      ]
     },
     "execution_count": 2,
     "metadata": {},
     "output_type": "execute_result"
    }
   ],
   "source": [
    "torch.manual_seed(2333)"
   ]
  },
  {
   "cell_type": "code",
   "execution_count": 3,
   "id": "488503a3",
   "metadata": {},
   "outputs": [
    {
     "name": "stdout",
     "output_type": "stream",
     "text": [
      "Downloading http://fashion-mnist.s3-website.eu-central-1.amazonaws.com/train-images-idx3-ubyte.gz\n",
      "Downloading http://fashion-mnist.s3-website.eu-central-1.amazonaws.com/train-images-idx3-ubyte.gz to data/FashionMNIST/raw/train-images-idx3-ubyte.gz\n"
     ]
    },
    {
     "name": "stderr",
     "output_type": "stream",
     "text": [
      "100.0%\n"
     ]
    },
    {
     "name": "stdout",
     "output_type": "stream",
     "text": [
      "Extracting data/FashionMNIST/raw/train-images-idx3-ubyte.gz to data/FashionMNIST/raw\n",
      "\n",
      "Downloading http://fashion-mnist.s3-website.eu-central-1.amazonaws.com/train-labels-idx1-ubyte.gz\n",
      "Downloading http://fashion-mnist.s3-website.eu-central-1.amazonaws.com/train-labels-idx1-ubyte.gz to data/FashionMNIST/raw/train-labels-idx1-ubyte.gz\n"
     ]
    },
    {
     "name": "stderr",
     "output_type": "stream",
     "text": [
      "100.0%\n"
     ]
    },
    {
     "name": "stdout",
     "output_type": "stream",
     "text": [
      "Extracting data/FashionMNIST/raw/train-labels-idx1-ubyte.gz to data/FashionMNIST/raw\n",
      "\n",
      "Downloading http://fashion-mnist.s3-website.eu-central-1.amazonaws.com/t10k-images-idx3-ubyte.gz\n",
      "Downloading http://fashion-mnist.s3-website.eu-central-1.amazonaws.com/t10k-images-idx3-ubyte.gz to data/FashionMNIST/raw/t10k-images-idx3-ubyte.gz\n"
     ]
    },
    {
     "name": "stderr",
     "output_type": "stream",
     "text": [
      "100.0%\n"
     ]
    },
    {
     "name": "stdout",
     "output_type": "stream",
     "text": [
      "Extracting data/FashionMNIST/raw/t10k-images-idx3-ubyte.gz to data/FashionMNIST/raw\n",
      "\n",
      "Downloading http://fashion-mnist.s3-website.eu-central-1.amazonaws.com/t10k-labels-idx1-ubyte.gz\n",
      "Downloading http://fashion-mnist.s3-website.eu-central-1.amazonaws.com/t10k-labels-idx1-ubyte.gz to data/FashionMNIST/raw/t10k-labels-idx1-ubyte.gz\n"
     ]
    },
    {
     "name": "stderr",
     "output_type": "stream",
     "text": [
      "100.0%\n"
     ]
    },
    {
     "name": "stdout",
     "output_type": "stream",
     "text": [
      "Extracting data/FashionMNIST/raw/t10k-labels-idx1-ubyte.gz to data/FashionMNIST/raw\n",
      "\n"
     ]
    }
   ],
   "source": [
    "transform=transforms.Compose([\n",
    "        transforms.ToTensor(),\n",
    "        transforms.Normalize((0.1307,), (0.3081,))\n",
    "        ])\n",
    "\n",
    "# Download training data from open datasets.\n",
    "training_data = datasets.FashionMNIST(\n",
    "    root=\"data\",\n",
    "    train=True,\n",
    "    download=True,\n",
    "    transform=transform,\n",
    ")\n",
    "\n",
    "# Download test data from open datasets.\n",
    "test_data = datasets.FashionMNIST(\n",
    "    root=\"data\",\n",
    "    train=False,\n",
    "    download=True,\n",
    "    transform=transform,\n",
    ")"
   ]
  },
  {
   "cell_type": "code",
   "execution_count": 4,
   "id": "66c497c8",
   "metadata": {},
   "outputs": [
    {
     "name": "stdout",
     "output_type": "stream",
     "text": [
      "Shape of X [N, C, H, W]: torch.Size([64, 1, 28, 28]) torch.float32\n",
      "Shape of y: torch.Size([64]) torch.int64\n"
     ]
    }
   ],
   "source": [
    "batch_size = 64\n",
    "\n",
    "# Create data loaders.\n",
    "train_dataloader = DataLoader(training_data, batch_size=batch_size)\n",
    "test_dataloader = DataLoader(test_data, batch_size=batch_size)\n",
    "\n",
    "for X, y in test_dataloader:\n",
    "    print(f\"Shape of X [N, C, H, W]: {X.shape} {X.dtype}\")\n",
    "    print(f\"Shape of y: {y.shape} {y.dtype}\")\n",
    "    break"
   ]
  },
  {
   "cell_type": "code",
   "execution_count": 5,
   "id": "41d6a203",
   "metadata": {},
   "outputs": [],
   "source": [
    "class Net(nn.Module):\n",
    "    def __init__(self):\n",
    "        super(Net, self).__init__()\n",
    "        self.conv1 = nn.Conv2d(1, 32, 3, 1)\n",
    "        self.conv2 = nn.Conv2d(32, 64, 3, 1)\n",
    "        self.dropout1 = nn.Dropout(0.25)\n",
    "        self.dropout2 = nn.Dropout(0.5)\n",
    "        self.fc1 = nn.Linear(9216, 128)\n",
    "        self.fc2 = nn.Linear(128, 10)\n",
    "\n",
    "    def forward(self, x):\n",
    "        x = self.conv1(x)\n",
    "        x = F.relu(x)\n",
    "        x = self.conv2(x)\n",
    "        x = F.relu(x)\n",
    "        x = F.max_pool2d(x, 2)\n",
    "        x = self.dropout1(x)\n",
    "        x = torch.flatten(x, 1)\n",
    "        x = self.fc1(x)\n",
    "        x = F.relu(x)\n",
    "        x = self.dropout2(x)\n",
    "        x = self.fc2(x)\n",
    "        output = F.log_softmax(x, dim=1)\n",
    "        return output"
   ]
  },
  {
   "cell_type": "code",
   "execution_count": 6,
   "id": "765b27d2",
   "metadata": {},
   "outputs": [],
   "source": [
    "def train(dataloader, model, optimizer):\n",
    "    size = len(dataloader.dataset)\n",
    "    model.train()\n",
    "    for batch, (X, y) in enumerate(dataloader):\n",
    "        X, y = X.to(device), y.to(device)\n",
    "\n",
    "        # Compute prediction error\n",
    "        pred = model(X)\n",
    "        loss = F.nll_loss(pred, y)\n",
    "\n",
    "        # Backpropagation\n",
    "        optimizer.zero_grad()\n",
    "        loss.backward()\n",
    "        optimizer.step()\n",
    "\n",
    "        if batch % 100 == 0:\n",
    "            loss, current = loss.item(), batch * len(X)\n",
    "            print(f\"loss: {loss:>7f}  [{current:>5d}/{size:>5d}]\")\n",
    "\n",
    "\n",
    "def test(dataloader, model):\n",
    "    size = len(dataloader.dataset)\n",
    "    num_batches = len(dataloader)\n",
    "    model.eval()\n",
    "    test_loss, correct = 0, 0\n",
    "    with torch.no_grad():\n",
    "        for X, y in dataloader:\n",
    "            X, y = X.to(device), y.to(device)\n",
    "            pred = model(X)\n",
    "            test_loss +=  F.nll_loss(pred, y, reduction='sum').item()\n",
    "            correct += (pred.argmax(1) == y).type(torch.float).sum().item()\n",
    "    test_loss /= num_batches\n",
    "    correct /= size\n",
    "    print(f\"Test Error: \\n Accuracy: {(100*correct):>0.1f}%, Avg loss: {test_loss:>8f} \\n\")"
   ]
  },
  {
   "cell_type": "code",
   "execution_count": 7,
   "id": "b14fecbb",
   "metadata": {},
   "outputs": [],
   "source": [
    "device = torch.device(\"cpu\")\n",
    "# torch.set_num_threads(1) "
   ]
  },
  {
   "cell_type": "code",
   "execution_count": 8,
   "id": "6421d838",
   "metadata": {},
   "outputs": [],
   "source": [
    "model = Net().to(device)\n",
    "optimizer = optim.Adadelta(model.parameters(), lr=1)\n",
    "scheduler = StepLR(optimizer, step_size=1, gamma=0.7)"
   ]
  },
  {
   "cell_type": "code",
   "execution_count": 9,
   "id": "8e012028",
   "metadata": {},
   "outputs": [
    {
     "name": "stdout",
     "output_type": "stream",
     "text": [
      "Epoch 1\n",
      "-------------------------------\n",
      "loss: 2.295813  [    0/60000]\n",
      "loss: 0.525210  [ 6400/60000]\n",
      "loss: 0.411794  [12800/60000]\n",
      "loss: 0.530543  [19200/60000]\n",
      "loss: 0.359274  [25600/60000]\n",
      "loss: 0.461819  [32000/60000]\n",
      "loss: 0.266216  [38400/60000]\n",
      "loss: 0.546541  [44800/60000]\n",
      "loss: 0.465276  [51200/60000]\n",
      "loss: 0.251716  [57600/60000]\n",
      "Test Error: \n",
      " Accuracy: 89.3%, Avg loss: 19.309088 \n",
      "\n",
      "Epoch 2\n",
      "-------------------------------\n",
      "loss: 0.176993  [    0/60000]\n",
      "loss: 0.265514  [ 6400/60000]\n",
      "loss: 0.221232  [12800/60000]\n",
      "loss: 0.360802  [19200/60000]\n",
      "loss: 0.301242  [25600/60000]\n",
      "loss: 0.352998  [32000/60000]\n",
      "loss: 0.205558  [38400/60000]\n",
      "loss: 0.436045  [44800/60000]\n",
      "loss: 0.294444  [51200/60000]\n",
      "loss: 0.313876  [57600/60000]\n",
      "Test Error: \n",
      " Accuracy: 91.0%, Avg loss: 16.226336 \n",
      "\n",
      "Epoch 3\n",
      "-------------------------------\n",
      "loss: 0.246410  [    0/60000]\n",
      "loss: 0.302301  [ 6400/60000]\n",
      "loss: 0.146719  [12800/60000]\n",
      "loss: 0.226857  [19200/60000]\n",
      "loss: 0.222383  [25600/60000]\n",
      "loss: 0.362350  [32000/60000]\n",
      "loss: 0.170594  [38400/60000]\n",
      "loss: 0.200316  [44800/60000]\n",
      "loss: 0.215690  [51200/60000]\n",
      "loss: 0.149026  [57600/60000]\n",
      "Test Error: \n",
      " Accuracy: 91.5%, Avg loss: 15.140046 \n",
      "\n",
      "Epoch 4\n",
      "-------------------------------\n",
      "loss: 0.179584  [    0/60000]\n",
      "loss: 0.302784  [ 6400/60000]\n",
      "loss: 0.146194  [12800/60000]\n",
      "loss: 0.185699  [19200/60000]\n",
      "loss: 0.162721  [25600/60000]\n",
      "loss: 0.309087  [32000/60000]\n",
      "loss: 0.193084  [38400/60000]\n",
      "loss: 0.226998  [44800/60000]\n",
      "loss: 0.227341  [51200/60000]\n",
      "loss: 0.195760  [57600/60000]\n",
      "Test Error: \n",
      " Accuracy: 91.9%, Avg loss: 15.009944 \n",
      "\n",
      "Epoch 5\n",
      "-------------------------------\n",
      "loss: 0.168775  [    0/60000]\n",
      "loss: 0.281160  [ 6400/60000]\n",
      "loss: 0.104274  [12800/60000]\n",
      "loss: 0.133589  [19200/60000]\n",
      "loss: 0.202813  [25600/60000]\n",
      "loss: 0.324229  [32000/60000]\n",
      "loss: 0.230907  [38400/60000]\n",
      "loss: 0.207776  [44800/60000]\n",
      "loss: 0.250757  [51200/60000]\n",
      "loss: 0.243741  [57600/60000]\n",
      "Test Error: \n",
      " Accuracy: 92.2%, Avg loss: 14.327120 \n",
      "\n",
      "Done!\n"
     ]
    }
   ],
   "source": [
    "epochs = 5\n",
    "for t in range(epochs):\n",
    "    print(f\"Epoch {t+1}\\n-------------------------------\")\n",
    "    train(train_dataloader, model, optimizer)\n",
    "    test(test_dataloader, model)\n",
    "    scheduler.step()\n",
    "print(\"Done!\")"
   ]
  },
  {
   "cell_type": "code",
   "execution_count": 10,
   "id": "b5b91e25",
   "metadata": {},
   "outputs": [],
   "source": [
    "input_names = [\"image\"]\n",
    "output_names = [\"prediction\"]\n",
    "dummy_input = torch.randn(10000, 1, 28, 28)\n",
    "torch.onnx.export(model,\n",
    "                  dummy_input,\n",
    "                  \"fmnist.onnx\",\n",
    "                  verbose=False,\n",
    "                  input_names=input_names,\n",
    "                  output_names=output_names)"
   ]
  },
  {
   "cell_type": "code",
   "execution_count": 11,
   "id": "0b92a4d4",
   "metadata": {},
   "outputs": [],
   "source": [
    "torch.set_num_interop_threads(1)\n",
    "dummy_input = torch.rand(10000, 1, 28, 28, dtype=torch.float32, device=device)"
   ]
  },
  {
   "cell_type": "code",
   "execution_count": 12,
   "id": "9ae7cfc8",
   "metadata": {},
   "outputs": [
    {
     "name": "stdout",
     "output_type": "stream",
     "text": [
      "CPU times: user 10.4 s, sys: 7.38 s, total: 17.8 s\n",
      "Wall time: 1.53 s\n"
     ]
    },
    {
     "data": {
      "text/plain": [
       "torch.Size([10000, 10])"
      ]
     },
     "execution_count": 12,
     "metadata": {},
     "output_type": "execute_result"
    }
   ],
   "source": [
    "%%time\n",
    "\n",
    "with torch.no_grad():\n",
    "    y = model(dummy_input)\n",
    "y.shape"
   ]
  },
  {
   "cell_type": "code",
   "execution_count": 13,
   "id": "150ca26c",
   "metadata": {},
   "outputs": [],
   "source": [
    "import numpy as np\n",
    "\n",
    "np_input = dummy_input.detach().numpy()\n",
    "with open('dummy_64_fminist_in.dat', 'wb') as f:\n",
    "    np_input.tofile(f)\n",
    "    \n",
    "np_output = y.detach().numpy()\n",
    "with open('dummy_64_fminist_out.dat', 'wb') as f:\n",
    "    np_output.tofile(f)\n"
   ]
  },
  {
   "cell_type": "code",
   "execution_count": null,
   "id": "9a7dd261",
   "metadata": {},
   "outputs": [],
   "source": []
  }
 ],
 "metadata": {
  "kernelspec": {
   "display_name": "Python 3 (ipykernel)",
   "language": "python",
   "name": "python3"
  },
  "language_info": {
   "codemirror_mode": {
    "name": "ipython",
    "version": 3
   },
   "file_extension": ".py",
   "mimetype": "text/x-python",
   "name": "python",
   "nbconvert_exporter": "python",
   "pygments_lexer": "ipython3",
   "version": "3.8.10"
  }
 },
 "nbformat": 4,
 "nbformat_minor": 5
}
