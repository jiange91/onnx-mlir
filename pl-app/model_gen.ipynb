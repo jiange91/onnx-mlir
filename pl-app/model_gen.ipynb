{
 "cells": [
  {
   "cell_type": "code",
   "execution_count": 1,
   "id": "eb7b5715",
   "metadata": {},
   "outputs": [],
   "source": [
    "import torch\n",
    "from torch import nn\n",
    "from torch.utils.data import DataLoader\n",
    "from torchvision import datasets\n",
    "from torchvision.transforms import ToTensor\n",
    "import torch.optim as optim\n",
    "from torch.optim.lr_scheduler import StepLR\n",
    "import torch.nn.functional as F\n",
    "from torchvision import datasets, transforms"
   ]
  },
  {
   "cell_type": "code",
   "execution_count": 2,
   "id": "488503a3",
   "metadata": {},
   "outputs": [],
   "source": [
    "transform=transforms.Compose([\n",
    "        transforms.ToTensor(),\n",
    "        transforms.Normalize((0.1307,), (0.3081,))\n",
    "        ])\n",
    "\n",
    "# Download training data from open datasets.\n",
    "training_data = datasets.FashionMNIST(\n",
    "    root=\"data\",\n",
    "    train=True,\n",
    "    download=True,\n",
    "    transform=transform,\n",
    ")\n",
    "\n",
    "# Download test data from open datasets.\n",
    "test_data = datasets.FashionMNIST(\n",
    "    root=\"data\",\n",
    "    train=False,\n",
    "    download=True,\n",
    "    transform=transform,\n",
    ")"
   ]
  },
  {
   "cell_type": "code",
   "execution_count": 3,
   "id": "66c497c8",
   "metadata": {},
   "outputs": [
    {
     "name": "stdout",
     "output_type": "stream",
     "text": [
      "Shape of X [N, C, H, W]: torch.Size([64, 1, 28, 28]) torch.float32\n",
      "Shape of y: torch.Size([64]) torch.int64\n"
     ]
    }
   ],
   "source": [
    "batch_size = 64\n",
    "\n",
    "# Create data loaders.\n",
    "train_dataloader = DataLoader(training_data, batch_size=batch_size)\n",
    "test_dataloader = DataLoader(test_data, batch_size=batch_size)\n",
    "\n",
    "for X, y in test_dataloader:\n",
    "    print(f\"Shape of X [N, C, H, W]: {X.shape} {X.dtype}\")\n",
    "    print(f\"Shape of y: {y.shape} {y.dtype}\")\n",
    "    break"
   ]
  },
  {
   "cell_type": "code",
   "execution_count": 4,
   "id": "41d6a203",
   "metadata": {},
   "outputs": [],
   "source": [
    "class Net(nn.Module):\n",
    "    def __init__(self):\n",
    "        super(Net, self).__init__()\n",
    "        self.conv1 = nn.Conv2d(1, 32, 3, 1)\n",
    "        self.conv2 = nn.Conv2d(32, 64, 3, 1)\n",
    "        self.dropout1 = nn.Dropout(0.25)\n",
    "        self.dropout2 = nn.Dropout(0.5)\n",
    "        self.fc1 = nn.Linear(9216, 128)\n",
    "        self.fc2 = nn.Linear(128, 10)\n",
    "\n",
    "    def forward(self, x):\n",
    "        x = self.conv1(x)\n",
    "        x = F.relu(x)\n",
    "        x = self.conv2(x)\n",
    "        x = F.relu(x)\n",
    "        x = F.max_pool2d(x, 2)\n",
    "        x = self.dropout1(x)\n",
    "        x = torch.flatten(x, 1)\n",
    "        x = self.fc1(x)\n",
    "        x = F.relu(x)\n",
    "        x = self.dropout2(x)\n",
    "        x = self.fc2(x)\n",
    "        output = F.log_softmax(x, dim=1)\n",
    "        return output"
   ]
  },
  {
   "cell_type": "code",
   "execution_count": 5,
   "id": "765b27d2",
   "metadata": {},
   "outputs": [],
   "source": [
    "def train(dataloader, model, optimizer):\n",
    "    size = len(dataloader.dataset)\n",
    "    model.train()\n",
    "    for batch, (X, y) in enumerate(dataloader):\n",
    "        X, y = X.to(device), y.to(device)\n",
    "\n",
    "        # Compute prediction error\n",
    "        pred = model(X)\n",
    "        loss = F.nll_loss(pred, y)\n",
    "\n",
    "        # Backpropagation\n",
    "        optimizer.zero_grad()\n",
    "        loss.backward()\n",
    "        optimizer.step()\n",
    "\n",
    "        if batch % 100 == 0:\n",
    "            loss, current = loss.item(), batch * len(X)\n",
    "            print(f\"loss: {loss:>7f}  [{current:>5d}/{size:>5d}]\")\n",
    "\n",
    "\n",
    "def test(dataloader, model):\n",
    "    size = len(dataloader.dataset)\n",
    "    num_batches = len(dataloader)\n",
    "    model.eval()\n",
    "    test_loss, correct = 0, 0\n",
    "    with torch.no_grad():\n",
    "        for X, y in dataloader:\n",
    "            X, y = X.to(device), y.to(device)\n",
    "            pred = model(X)\n",
    "            test_loss +=  F.nll_loss(pred, y, reduction='sum').item()\n",
    "            correct += (pred.argmax(1) == y).type(torch.float).sum().item()\n",
    "    test_loss /= num_batches\n",
    "    correct /= size\n",
    "    print(f\"Test Error: \\n Accuracy: {(100*correct):>0.1f}%, Avg loss: {test_loss:>8f} \\n\")"
   ]
  },
  {
   "cell_type": "code",
   "execution_count": 6,
   "id": "b14fecbb",
   "metadata": {},
   "outputs": [],
   "source": [
    "device = torch.device(\"cpu\")\n",
    "torch.set_num_threads(1) "
   ]
  },
  {
   "cell_type": "code",
   "execution_count": 7,
   "id": "6421d838",
   "metadata": {},
   "outputs": [],
   "source": [
    "model = Net().to(device)\n",
    "optimizer = optim.Adadelta(model.parameters(), lr=1)\n",
    "scheduler = StepLR(optimizer, step_size=1, gamma=0.7)"
   ]
  },
  {
   "cell_type": "code",
   "execution_count": 8,
   "id": "8e012028",
   "metadata": {},
   "outputs": [
    {
     "name": "stdout",
     "output_type": "stream",
     "text": [
      "Epoch 1\n",
      "-------------------------------\n",
      "loss: 2.332420  [    0/60000]\n",
      "loss: 0.580163  [ 6400/60000]\n",
      "loss: 0.429841  [12800/60000]\n",
      "loss: 0.466516  [19200/60000]\n",
      "loss: 0.414946  [25600/60000]\n",
      "loss: 0.421107  [32000/60000]\n",
      "loss: 0.392035  [38400/60000]\n",
      "loss: 0.485541  [44800/60000]\n",
      "loss: 0.345199  [51200/60000]\n",
      "loss: 0.345817  [57600/60000]\n",
      "Test Error: \n",
      " Accuracy: 88.5%, Avg loss: 20.201303 \n",
      "\n",
      "Epoch 2\n",
      "-------------------------------\n",
      "loss: 0.168893  [    0/60000]\n",
      "loss: 0.355841  [ 6400/60000]\n",
      "loss: 0.162373  [12800/60000]\n",
      "loss: 0.334505  [19200/60000]\n",
      "loss: 0.368560  [25600/60000]\n",
      "loss: 0.338705  [32000/60000]\n",
      "loss: 0.253481  [38400/60000]\n",
      "loss: 0.396986  [44800/60000]\n",
      "loss: 0.346941  [51200/60000]\n",
      "loss: 0.236526  [57600/60000]\n",
      "Test Error: \n",
      " Accuracy: 90.6%, Avg loss: 17.669085 \n",
      "\n",
      "Epoch 3\n",
      "-------------------------------\n",
      "loss: 0.136695  [    0/60000]\n",
      "loss: 0.276821  [ 6400/60000]\n",
      "loss: 0.166020  [12800/60000]\n",
      "loss: 0.249754  [19200/60000]\n",
      "loss: 0.233135  [25600/60000]\n",
      "loss: 0.351762  [32000/60000]\n",
      "loss: 0.155747  [38400/60000]\n",
      "loss: 0.344949  [44800/60000]\n",
      "loss: 0.292779  [51200/60000]\n",
      "loss: 0.219442  [57600/60000]\n",
      "Test Error: \n",
      " Accuracy: 90.5%, Avg loss: 16.440078 \n",
      "\n",
      "Epoch 4\n",
      "-------------------------------\n",
      "loss: 0.156137  [    0/60000]\n",
      "loss: 0.243972  [ 6400/60000]\n",
      "loss: 0.095463  [12800/60000]\n",
      "loss: 0.224828  [19200/60000]\n",
      "loss: 0.195299  [25600/60000]\n",
      "loss: 0.403981  [32000/60000]\n",
      "loss: 0.247071  [38400/60000]\n",
      "loss: 0.318195  [44800/60000]\n",
      "loss: 0.290502  [51200/60000]\n",
      "loss: 0.185278  [57600/60000]\n",
      "Test Error: \n",
      " Accuracy: 92.0%, Avg loss: 14.726542 \n",
      "\n",
      "Epoch 5\n",
      "-------------------------------\n",
      "loss: 0.097358  [    0/60000]\n",
      "loss: 0.242289  [ 6400/60000]\n",
      "loss: 0.128999  [12800/60000]\n",
      "loss: 0.229743  [19200/60000]\n",
      "loss: 0.223149  [25600/60000]\n",
      "loss: 0.243181  [32000/60000]\n",
      "loss: 0.196029  [38400/60000]\n",
      "loss: 0.285616  [44800/60000]\n",
      "loss: 0.190406  [51200/60000]\n",
      "loss: 0.067449  [57600/60000]\n",
      "Test Error: \n",
      " Accuracy: 92.4%, Avg loss: 14.121630 \n",
      "\n",
      "Done!\n"
     ]
    }
   ],
   "source": [
    "epochs = 5\n",
    "for t in range(epochs):\n",
    "    print(f\"Epoch {t+1}\\n-------------------------------\")\n",
    "    train(train_dataloader, model, optimizer)\n",
    "    test(test_dataloader, model)\n",
    "    scheduler.step()\n",
    "print(\"Done!\")"
   ]
  },
  {
   "cell_type": "code",
   "execution_count": 9,
   "id": "b5b91e25",
   "metadata": {},
   "outputs": [],
   "source": [
    "input_names = [\"image\"]\n",
    "output_names = [\"prediction\"]\n",
    "dummy_input = torch.randn(10000, 1, 28, 28)\n",
    "torch.onnx.export(model,\n",
    "                  dummy_input,\n",
    "                  \"fmnist.onnx\",\n",
    "                  verbose=False,\n",
    "                  input_names=input_names,\n",
    "                  output_names=output_names)"
   ]
  },
  {
   "cell_type": "code",
   "execution_count": 10,
   "id": "0b92a4d4",
   "metadata": {},
   "outputs": [],
   "source": [
    "torch.manual_seed(2333)\n",
    "torch.set_num_interop_threads(1)\n",
    "dummy_input = torch.rand(10000, 1, 28, 28, dtype=torch.float32, device=device)"
   ]
  },
  {
   "cell_type": "code",
   "execution_count": 11,
   "id": "9ae7cfc8",
   "metadata": {},
   "outputs": [
    {
     "name": "stdout",
     "output_type": "stream",
     "text": [
      "CPU times: user 7.96 s, sys: 3.88 s, total: 11.8 s\n",
      "Wall time: 11.8 s\n"
     ]
    },
    {
     "data": {
      "text/plain": [
       "torch.Size([10000, 10])"
      ]
     },
     "execution_count": 11,
     "metadata": {},
     "output_type": "execute_result"
    }
   ],
   "source": [
    "%%time\n",
    "\n",
    "with torch.no_grad():\n",
    "    y = model(dummy_input)\n",
    "y.shape"
   ]
  },
  {
   "cell_type": "code",
   "execution_count": 12,
   "id": "150ca26c",
   "metadata": {},
   "outputs": [],
   "source": [
    "import numpy as np\n",
    "\n",
    "np_input = dummy_input.detach().numpy()\n",
    "with open('dummy_64_fminist_in.dat', 'wb') as f:\n",
    "    np_input.tofile(f)\n",
    "    \n",
    "np_output = y.detach().numpy()\n",
    "with open('dummy_64_fminist_out.dat', 'wb') as f:\n",
    "    np_output.tofile(f)\n"
   ]
  },
  {
   "cell_type": "code",
   "execution_count": null,
   "id": "9a7dd261",
   "metadata": {},
   "outputs": [],
   "source": []
  }
 ],
 "metadata": {
  "kernelspec": {
   "display_name": "Python 3 (ipykernel)",
   "language": "python",
   "name": "python3"
  },
  "language_info": {
   "codemirror_mode": {
    "name": "ipython",
    "version": 3
   },
   "file_extension": ".py",
   "mimetype": "text/x-python",
   "name": "python",
   "nbconvert_exporter": "python",
   "pygments_lexer": "ipython3",
   "version": "3.8.10"
  }
 },
 "nbformat": 4,
 "nbformat_minor": 5
}
